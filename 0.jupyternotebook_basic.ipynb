{
 "cells": [
  {
   "cell_type": "code",
   "execution_count": 1,
   "metadata": {},
   "outputs": [
    {
     "name": "stdout",
     "output_type": "stream",
     "text": [
      "Name: pandas\r\n",
      "Version: 1.1.3\r\n",
      "Summary: Powerful data structures for data analysis, time series, and statistics\r\n",
      "Home-page: https://pandas.pydata.org\r\n",
      "Author: None\r\n",
      "Author-email: None\r\n",
      "License: BSD\r\n",
      "Location: /Users/mhee4/opt/anaconda3/lib/python3.8/site-packages\r\n",
      "Requires: python-dateutil, numpy, pytz\r\n",
      "Required-by: statsmodels, seaborn\r\n"
     ]
    }
   ],
   "source": [
    "!pip show pandas"
   ]
  },
  {
   "cell_type": "code",
   "execution_count": 2,
   "metadata": {},
   "outputs": [],
   "source": [
    "def add(n1, n2):\n",
    "    return n1 + n2"
   ]
  },
  {
   "cell_type": "code",
   "execution_count": 4,
   "metadata": {},
   "outputs": [
    {
     "name": "stdout",
     "output_type": "stream",
     "text": [
      "40\n"
     ]
    },
    {
     "data": {
      "text/plain": [
       "30"
      ]
     },
     "execution_count": 4,
     "metadata": {},
     "output_type": "execute_result"
    }
   ],
   "source": [
    "print(add(20,20))\n",
    "add(10, 20)"
   ]
  },
  {
   "cell_type": "markdown",
   "metadata": {},
   "source": [
    "# The largest heading\n",
    "## The second largest heading\n",
    "###### The smallest heading"
   ]
  },
  {
   "cell_type": "markdown",
   "metadata": {},
   "source": [
    "1. First list item\n",
    "   - First nested list item\n",
    "     - Second nested list item"
   ]
  },
  {
   "cell_type": "code",
   "execution_count": 5,
   "metadata": {},
   "outputs": [
    {
     "name": "stdout",
     "output_type": "stream",
     "text": [
      "a\n",
      "b\r",
      "c\tda\n",
      "b\r",
      "c\tda\n",
      "b\r",
      "c\td\n",
      "<class 're.Pattern'> re.compile('[\\\\n\\\\r\\\\t]')\n",
      "a b c da b c da b c d\n",
      "abcdabcdabcd\n"
     ]
    }
   ],
   "source": [
    "# 정규표현식 연습하기\n",
    "# 문자열에 포함된 \\n\\r\\t 제거하기\n",
    "\n",
    "import re\n",
    "\n",
    "my_str = 'a\\nb\\rc\\td' * 3\n",
    "print(my_str)\n",
    "\n",
    "# 정규표현식 패턴 객체 생성\n",
    "regexp = re.compile(r'[\\n\\r\\t]')\n",
    "print(type(regexp), regexp)\n",
    "\n",
    "# 패턴과 일치하는 문자열을 찾아서 다른 문자열로 치환(substitute)\n",
    "result = regexp.sub(\" \", my_str)\n",
    "print(result)\n",
    "\n",
    "result = result.replace(\" \", \"\")\n",
    "print(result)"
   ]
  },
  {
   "cell_type": "code",
   "execution_count": 4,
   "metadata": {},
   "outputs": [
    {
     "name": "stdout",
     "output_type": "stream",
     "text": [
      "<zip object at 0x7f950909a740>\n",
      "[('정당', '민주당'), ('선거구', '서울은평구')]\n",
      "<class 'tuple'> ('정당', '민주당')\n",
      "<class 'tuple'> ('선거구', '서울은평구')\n",
      "{'정당': '민주당', '선거구': '서울은평구'}\n"
     ]
    }
   ],
   "source": [
    "# zip 함수\n",
    "dt_list = ['정당', '선거구']\n",
    "dd_list = ['민주당', '서울은평구']\n",
    "print(zip(dt_list,dd_list))\n",
    "print(list(zip(dt_list,dd_list)))\n",
    "\n",
    "for data in zip(dt_list, dd_list):\n",
    "    print(type(data), data)\n",
    "    \n",
    "print(dict(zip(dt_list, dd_list)))"
   ]
  },
  {
   "cell_type": "code",
   "execution_count": 7,
   "metadata": {},
   "outputs": [
    {
     "name": "stdout",
     "output_type": "stream",
     "text": [
      "2021-01-11\n",
      "2021\n",
      "1\n",
      "11\n"
     ]
    }
   ],
   "source": [
    "from datetime import date\n",
    "\n",
    "# 현재날짜\n",
    "today = date.today()\n",
    "print(today)\n",
    "print(today.year)\n",
    "print(today.month)\n",
    "print(today.day)"
   ]
  },
  {
   "cell_type": "code",
   "execution_count": 12,
   "metadata": {},
   "outputs": [
    {
     "name": "stdout",
     "output_type": "stream",
     "text": [
      "<class 'datetime.date'> 1960-01-04\n",
      "1960\n",
      "1\n",
      "4\n",
      "<class 'datetime.date'> 1960-12-05\n",
      "1960\n",
      "12\n",
      "5\n"
     ]
    }
   ],
   "source": [
    "# 1960 1 4\n",
    "# 1960 12 5\n",
    "birth = date(1960, 1, 4)\n",
    "print(type(birth), birth)\n",
    "print(birth.year)\n",
    "print(birth.month)\n",
    "print(birth.day)\n",
    "\n",
    "birth2 = date(1960, 12, 5)\n",
    "print(type(birth2), birth2)\n",
    "print(birth2.year)\n",
    "print(birth2.month)\n",
    "print(birth2.day)"
   ]
  },
  {
   "cell_type": "code",
   "execution_count": 11,
   "metadata": {},
   "outputs": [
    {
     "data": {
      "text/plain": [
       "False"
      ]
     },
     "execution_count": 11,
     "metadata": {},
     "output_type": "execute_result"
    }
   ],
   "source": [
    "# 1-11 < 1-4\n",
    "(today.month, today.day) < (birth.month, birth.day) # 0"
   ]
  },
  {
   "cell_type": "code",
   "execution_count": 13,
   "metadata": {},
   "outputs": [
    {
     "data": {
      "text/plain": [
       "True"
      ]
     },
     "execution_count": 13,
     "metadata": {},
     "output_type": "execute_result"
    }
   ],
   "source": [
    "(today.month, today.day) < (birth2.month, birth2.day) # 1"
   ]
  },
  {
   "cell_type": "code",
   "execution_count": 15,
   "metadata": {},
   "outputs": [
    {
     "name": "stdout",
     "output_type": "stream",
     "text": [
      "61\n"
     ]
    }
   ],
   "source": [
    "# 1960 1 4\n",
    "age1 = today.year - birth.year - ((today.month, today.day) < (birth.month, birth.day))\n",
    "print(age1)"
   ]
  },
  {
   "cell_type": "code",
   "execution_count": 16,
   "metadata": {},
   "outputs": [
    {
     "name": "stdout",
     "output_type": "stream",
     "text": [
      "60\n"
     ]
    }
   ],
   "source": [
    "# 1960 12 5\n",
    "age2 = today.year - birth2.year - ((today.month, today.day) < (birth2.month, birth2.day))\n",
    "print(age2)"
   ]
  },
  {
   "cell_type": "code",
   "execution_count": null,
   "metadata": {},
   "outputs": [],
   "source": []
  }
 ],
 "metadata": {
  "kernelspec": {
   "display_name": "Python 3",
   "language": "python",
   "name": "python3"
  },
  "language_info": {
   "codemirror_mode": {
    "name": "ipython",
    "version": 3
   },
   "file_extension": ".py",
   "mimetype": "text/x-python",
   "name": "python",
   "nbconvert_exporter": "python",
   "pygments_lexer": "ipython3",
   "version": "3.8.5"
  }
 },
 "nbformat": 4,
 "nbformat_minor": 4
}
