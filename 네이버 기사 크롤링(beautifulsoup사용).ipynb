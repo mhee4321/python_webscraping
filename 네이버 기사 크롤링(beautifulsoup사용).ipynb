{
 "cells": [
  {
   "cell_type": "code",
   "execution_count": 9,
   "metadata": {},
   "outputs": [
    {
     "name": "stdout",
     "output_type": "stream",
     "text": [
      "200\n",
      "[{'title': \"\\r\\n\\t\\t\\t\\t\\t\\t\\t\\t 과기정통부, '디지털 뉴딜 '통합 설명회 28일 개최\\r\\n\\t\\t\\t\\t\\t\\t\\t\\t\", 'content': '[아이뉴스24 김문기 기자] 과학기술정보통신부가 디지털 뉴딜 통합 설명회를 연다. 과학기술정보통신부(장관 최기영)는 28일 올해 …', 'company': '아이뉴스24', 'saved_tme': '23분전'}, {'title': \"\\r\\n\\t\\t\\t\\t\\t\\t\\t\\t 과기정통부, '디지털 뉴딜 '통합 설명회 28일 개최\\r\\n\\t\\t\\t\\t\\t\\t\\t\\t\", 'content': '[아이뉴스24 김문기 기자] 과학기술정보통신부가 디지털 뉴딜 통합 설명회를 연다. 과학기술정보통신부(장관 최기영)는 28일 올해 …', 'company': '아이뉴스24', 'saved_tme': '23분전'}, {'title': \"\\r\\n\\t\\t\\t\\t\\t\\t\\t\\t 과기정통부, '디지털 뉴딜 '통합 설명회 28일 개최\\r\\n\\t\\t\\t\\t\\t\\t\\t\\t\", 'content': '[아이뉴스24 김문기 기자] 과학기술정보통신부가 디지털 뉴딜 통합 설명회를 연다. 과학기술정보통신부(장관 최기영)는 28일 올해 …', 'company': '아이뉴스24', 'saved_tme': '23분전'}, {'title': \"\\r\\n\\t\\t\\t\\t\\t\\t\\t\\t 과기정통부, '디지털 뉴딜 '통합 설명회 28일 개최\\r\\n\\t\\t\\t\\t\\t\\t\\t\\t\", 'content': '[아이뉴스24 김문기 기자] 과학기술정보통신부가 디지털 뉴딜 통합 설명회를 연다. 과학기술정보통신부(장관 최기영)는 28일 올해 …', 'company': '아이뉴스24', 'saved_tme': '23분전'}, {'title': \"\\r\\n\\t\\t\\t\\t\\t\\t\\t\\t 과기정통부, '디지털 뉴딜 '통합 설명회 28일 개최\\r\\n\\t\\t\\t\\t\\t\\t\\t\\t\", 'content': '[아이뉴스24 김문기 기자] 과학기술정보통신부가 디지털 뉴딜 통합 설명회를 연다. 과학기술정보통신부(장관 최기영)는 28일 올해 …', 'company': '아이뉴스24', 'saved_tme': '23분전'}, {'title': \"\\r\\n\\t\\t\\t\\t\\t\\t\\t\\t 과기정통부, '디지털 뉴딜 '통합 설명회 28일 개최\\r\\n\\t\\t\\t\\t\\t\\t\\t\\t\", 'content': '[아이뉴스24 김문기 기자] 과학기술정보통신부가 디지털 뉴딜 통합 설명회를 연다. 과학기술정보통신부(장관 최기영)는 28일 올해 …', 'company': '아이뉴스24', 'saved_tme': '23분전'}, {'title': \"\\r\\n\\t\\t\\t\\t\\t\\t\\t\\t 과기정통부, '디지털 뉴딜 '통합 설명회 28일 개최\\r\\n\\t\\t\\t\\t\\t\\t\\t\\t\", 'content': '[아이뉴스24 김문기 기자] 과학기술정보통신부가 디지털 뉴딜 통합 설명회를 연다. 과학기술정보통신부(장관 최기영)는 28일 올해 …', 'company': '아이뉴스24', 'saved_tme': '23분전'}, {'title': \"\\r\\n\\t\\t\\t\\t\\t\\t\\t\\t 과기정통부, '디지털 뉴딜 '통합 설명회 28일 개최\\r\\n\\t\\t\\t\\t\\t\\t\\t\\t\", 'content': '[아이뉴스24 김문기 기자] 과학기술정보통신부가 디지털 뉴딜 통합 설명회를 연다. 과학기술정보통신부(장관 최기영)는 28일 올해 …', 'company': '아이뉴스24', 'saved_tme': '23분전'}, {'title': \"\\r\\n\\t\\t\\t\\t\\t\\t\\t\\t 과기정통부, '디지털 뉴딜 '통합 설명회 28일 개최\\r\\n\\t\\t\\t\\t\\t\\t\\t\\t\", 'content': '[아이뉴스24 김문기 기자] 과학기술정보통신부가 디지털 뉴딜 통합 설명회를 연다. 과학기술정보통신부(장관 최기영)는 28일 올해 …', 'company': '아이뉴스24', 'saved_tme': '23분전'}, {'title': \"\\r\\n\\t\\t\\t\\t\\t\\t\\t\\t 과기정통부, '디지털 뉴딜 '통합 설명회 28일 개최\\r\\n\\t\\t\\t\\t\\t\\t\\t\\t\", 'content': '[아이뉴스24 김문기 기자] 과학기술정보통신부가 디지털 뉴딜 통합 설명회를 연다. 과학기술정보통신부(장관 최기영)는 28일 올해 …', 'company': '아이뉴스24', 'saved_tme': '23분전'}]\n"
     ]
    }
   ],
   "source": [
    "import requests\n",
    "from bs4 import BeautifulSoup\n",
    "import re\n",
    "\n",
    "url = 'https://news.naver.com/main/list.nhn?mode=LS2D&mid=shm&sid1=105&sid2=230'\n",
    "\n",
    "req_header = {\n",
    "    'user-agent' : 'Mozilla/5.0 (Macintosh; Intel Mac OS X 11_0_1) AppleWebKit/537.36 (KHTML, like Gecko) Chrome/88.0.4324.96 Safari/537.36'\n",
    "}\n",
    "\n",
    "res = requests.get(url, headers=req_header)\n",
    "print(res.status_code)\n",
    "\n",
    "if res.ok :\n",
    "    html = res.text\n",
    "    soup = BeautifulSoup(html, 'html.parser')\n",
    "    \n",
    "    titles = soup.select('#main_content > div.list_body.newsflash_body > ul.type06_headline dl dt:nth-child(2) a')\n",
    "    contents = soup.select('#main_content > div.list_body.newsflash_body > ul.type06_headline dl dd span.lede')\n",
    "    companies = soup.select('#main_content > div.list_body.newsflash_body > ul.type06_headline dl dd span.writing')\n",
    "    saved_times = soup.select('#main_content > div.list_body.newsflash_body > ul.type06_headline dl dd span.date.is_new')\n",
    "    \n",
    "    ts = []\n",
    "    cs = []\n",
    "    ps = []\n",
    "    ds = []\n",
    "    for i in titles:\n",
    "        ts.append(i.text)\n",
    "        \n",
    "    for i in contents:\n",
    "        cs.append(i.text)\n",
    "    \n",
    "    for i in companies:\n",
    "        ps.append(i.text)\n",
    "        \n",
    "    for i in saved_times:\n",
    "        ds.append(i.text)\n",
    "        \n",
    "    news_list = []\n",
    "    data = {}\n",
    "    for item in zip(ts, cs, ps, ds):\n",
    "        data['title'] = item[0]\n",
    "        data['content'] = item[1]\n",
    "        data['company'] = item[2]\n",
    "        data['saved_tme'] = item[3]\n",
    "        news_list.append(data)\n",
    "    print(news_list)    "
   ]
  },
  {
   "cell_type": "code",
   "execution_count": null,
   "metadata": {},
   "outputs": [],
   "source": []
  }
 ],
 "metadata": {
  "kernelspec": {
   "display_name": "Python 3",
   "language": "python",
   "name": "python3"
  },
  "language_info": {
   "codemirror_mode": {
    "name": "ipython",
    "version": 3
   },
   "file_extension": ".py",
   "mimetype": "text/x-python",
   "name": "python",
   "nbconvert_exporter": "python",
   "pygments_lexer": "ipython3",
   "version": "3.8.5"
  }
 },
 "nbformat": 4,
 "nbformat_minor": 4
}
